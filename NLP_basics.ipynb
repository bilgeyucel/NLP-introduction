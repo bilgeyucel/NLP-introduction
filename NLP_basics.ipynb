{
  "nbformat": 4,
  "nbformat_minor": 0,
  "metadata": {
    "colab": {
      "name": "NLP_basics.ipynb",
      "provenance": [],
      "authorship_tag": "ABX9TyMKAi1yCUxmbwx7EpcWKV7U",
      "include_colab_link": true
    },
    "kernelspec": {
      "name": "python3",
      "display_name": "Python 3"
    },
    "language_info": {
      "name": "python"
    }
  },
  "cells": [
    {
      "cell_type": "markdown",
      "metadata": {
        "id": "view-in-github",
        "colab_type": "text"
      },
      "source": [
        "<a href=\"https://colab.research.google.com/github/bilgeyucel/NLP-introduction/blob/main/NLP_basics.ipynb\" target=\"_parent\"><img src=\"https://colab.research.google.com/assets/colab-badge.svg\" alt=\"Open In Colab\"/></a>"
      ]
    },
    {
      "cell_type": "markdown",
      "metadata": {
        "id": "QXsXXYS_4REU"
      },
      "source": [
        "### Stop Words\n",
        "Unnecessary words"
      ]
    },
    {
      "cell_type": "code",
      "metadata": {
        "colab": {
          "base_uri": "https://localhost:8080/"
        },
        "id": "1-4Kc_Ti1bDs",
        "outputId": "b51c5402-637a-4179-8f12-3620a6ba244f"
      },
      "source": [
        "# from nltk.corpus import stopwords\n",
        "from nltk.tokenize import word_tokenize\n",
        "import nltk\n",
        "nltk.download('stopwords')\n",
        "nltk.download('punkt')"
      ],
      "execution_count": 18,
      "outputs": [
        {
          "output_type": "stream",
          "name": "stdout",
          "text": [
            "[nltk_data] Downloading package stopwords to /root/nltk_data...\n",
            "[nltk_data]   Package stopwords is already up-to-date!\n",
            "[nltk_data] Downloading package punkt to /root/nltk_data...\n",
            "[nltk_data]   Unzipping tokenizers/punkt.zip.\n"
          ]
        },
        {
          "output_type": "execute_result",
          "data": {
            "text/plain": [
              "True"
            ]
          },
          "metadata": {},
          "execution_count": 18
        }
      ]
    },
    {
      "cell_type": "code",
      "metadata": {
        "id": "RudaoXHC1uuJ"
      },
      "source": [
        "text = \"Lotta Lindgren, known by her stage name Léon, is a Swedish singer and songwriter born and raised in Stockholm, Sweden. Léon's rise to becoming an international music sensation began with the release of the single 'Tired of Talking' on SoundCloud in July 2015. To date, Léon has released two full-length albums, LÉON and Apart, and most recently collaborated with Jonas Blue on the house single 'Hear Me Say'.\""
      ],
      "execution_count": 6,
      "outputs": []
    },
    {
      "cell_type": "code",
      "metadata": {
        "colab": {
          "base_uri": "https://localhost:8080/",
          "height": 184
        },
        "id": "XXg2uGmT2g4n",
        "outputId": "5604c5ee-082c-4992-a058-7ee5191e353d"
      },
      "source": [
        "stopwords = stopwords.words(\"english\")"
      ],
      "execution_count": 13,
      "outputs": [
        {
          "output_type": "error",
          "ename": "AttributeError",
          "evalue": "ignored",
          "traceback": [
            "\u001b[0;31m---------------------------------------------------------------------------\u001b[0m",
            "\u001b[0;31mAttributeError\u001b[0m                            Traceback (most recent call last)",
            "\u001b[0;32m<ipython-input-13-1509eb2960fa>\u001b[0m in \u001b[0;36m<module>\u001b[0;34m()\u001b[0m\n\u001b[0;32m----> 1\u001b[0;31m \u001b[0mstopwords\u001b[0m \u001b[0;34m=\u001b[0m \u001b[0mstopwords\u001b[0m\u001b[0;34m.\u001b[0m\u001b[0mwords\u001b[0m\u001b[0;34m(\u001b[0m\u001b[0;34m\"english\"\u001b[0m\u001b[0;34m)\u001b[0m\u001b[0;34m\u001b[0m\u001b[0;34m\u001b[0m\u001b[0m\n\u001b[0m\u001b[1;32m      2\u001b[0m \u001b[0mprint\u001b[0m\u001b[0;34m(\u001b[0m\u001b[0mstopwords\u001b[0m\u001b[0;34m)\u001b[0m\u001b[0;34m\u001b[0m\u001b[0;34m\u001b[0m\u001b[0m\n",
            "\u001b[0;31mAttributeError\u001b[0m: 'list' object has no attribute 'words'"
          ]
        }
      ]
    },
    {
      "cell_type": "code",
      "metadata": {
        "colab": {
          "base_uri": "https://localhost:8080/"
        },
        "id": "K9--xXQ83EpV",
        "outputId": "99ee782e-7c56-4da6-8edf-c1e2f0832385"
      },
      "source": [
        "print(stopwords)"
      ],
      "execution_count": 14,
      "outputs": [
        {
          "output_type": "stream",
          "name": "stdout",
          "text": [
            "['i', 'me', 'my', 'myself', 'we', 'our', 'ours', 'ourselves', 'you', \"you're\", \"you've\", \"you'll\", \"you'd\", 'your', 'yours', 'yourself', 'yourselves', 'he', 'him', 'his', 'himself', 'she', \"she's\", 'her', 'hers', 'herself', 'it', \"it's\", 'its', 'itself', 'they', 'them', 'their', 'theirs', 'themselves', 'what', 'which', 'who', 'whom', 'this', 'that', \"that'll\", 'these', 'those', 'am', 'is', 'are', 'was', 'were', 'be', 'been', 'being', 'have', 'has', 'had', 'having', 'do', 'does', 'did', 'doing', 'a', 'an', 'the', 'and', 'but', 'if', 'or', 'because', 'as', 'until', 'while', 'of', 'at', 'by', 'for', 'with', 'about', 'against', 'between', 'into', 'through', 'during', 'before', 'after', 'above', 'below', 'to', 'from', 'up', 'down', 'in', 'out', 'on', 'off', 'over', 'under', 'again', 'further', 'then', 'once', 'here', 'there', 'when', 'where', 'why', 'how', 'all', 'any', 'both', 'each', 'few', 'more', 'most', 'other', 'some', 'such', 'no', 'nor', 'not', 'only', 'own', 'same', 'so', 'than', 'too', 'very', 's', 't', 'can', 'will', 'just', 'don', \"don't\", 'should', \"should've\", 'now', 'd', 'll', 'm', 'o', 're', 've', 'y', 'ain', 'aren', \"aren't\", 'couldn', \"couldn't\", 'didn', \"didn't\", 'doesn', \"doesn't\", 'hadn', \"hadn't\", 'hasn', \"hasn't\", 'haven', \"haven't\", 'isn', \"isn't\", 'ma', 'mightn', \"mightn't\", 'mustn', \"mustn't\", 'needn', \"needn't\", 'shan', \"shan't\", 'shouldn', \"shouldn't\", 'wasn', \"wasn't\", 'weren', \"weren't\", 'won', \"won't\", 'wouldn', \"wouldn't\"]\n"
          ]
        }
      ]
    },
    {
      "cell_type": "code",
      "metadata": {
        "id": "Ik1AMlUK3IQq"
      },
      "source": [
        "words = word_tokenize(text)"
      ],
      "execution_count": 19,
      "outputs": []
    },
    {
      "cell_type": "code",
      "metadata": {
        "id": "Z0cQjpVM3kcI"
      },
      "source": [
        "filtered_words = []\n",
        "\n",
        "for word in words:\n",
        "  if word not in stopwords:\n",
        "    filtered_words.append(word)"
      ],
      "execution_count": 20,
      "outputs": []
    },
    {
      "cell_type": "code",
      "metadata": {
        "colab": {
          "base_uri": "https://localhost:8080/"
        },
        "id": "J-odEccP369u",
        "outputId": "b307560c-f59d-4ba5-b116-e55be3e15070"
      },
      "source": [
        "print(filtered_words)"
      ],
      "execution_count": 21,
      "outputs": [
        {
          "output_type": "stream",
          "name": "stdout",
          "text": [
            "['Lotta', 'Lindgren', ',', 'known', 'stage', 'name', 'Léon', ',', 'Swedish', 'singer', 'songwriter', 'born', 'raised', 'Stockholm', ',', 'Sweden', '.', 'Léon', \"'s\", 'rise', 'becoming', 'international', 'music', 'sensation', 'began', 'release', 'single', \"'Tired\", 'Talking', \"'\", 'SoundCloud', 'July', '2015', '.', 'To', 'date', ',', 'Léon', 'released', 'two', 'full-length', 'albums', ',', 'LÉON', 'Apart', ',', 'recently', 'collaborated', 'Jonas', 'Blue', 'house', 'single', \"'Hear\", 'Me', 'Say', \"'\", '.']\n"
          ]
        }
      ]
    },
    {
      "cell_type": "markdown",
      "metadata": {
        "id": "l8u5saYP4gxL"
      },
      "source": [
        "###Stemming\n",
        "Removes suffixes "
      ]
    },
    {
      "cell_type": "code",
      "metadata": {
        "id": "D6vFDQEH4lLl"
      },
      "source": [
        "from nltk.stem import PorterStemmer"
      ],
      "execution_count": 22,
      "outputs": []
    },
    {
      "cell_type": "code",
      "metadata": {
        "id": "hTTW7BJT6Iwx"
      },
      "source": [
        "ps = PorterStemmer()"
      ],
      "execution_count": 23,
      "outputs": []
    },
    {
      "cell_type": "code",
      "metadata": {
        "id": "oOEW2lhn6LKs"
      },
      "source": [
        "words = ['drive', 'driving', 'driver','drives','drove', 'cats', 'children']"
      ],
      "execution_count": 24,
      "outputs": []
    },
    {
      "cell_type": "code",
      "metadata": {
        "colab": {
          "base_uri": "https://localhost:8080/"
        },
        "id": "jy3ZKM-e6abk",
        "outputId": "71619797-b125-4566-df85-256fb29e7647"
      },
      "source": [
        "for w in words:\n",
        "  print(ps.stem(w))"
      ],
      "execution_count": 25,
      "outputs": [
        {
          "output_type": "stream",
          "name": "stdout",
          "text": [
            "drive\n",
            "drive\n",
            "driver\n",
            "drive\n",
            "drove\n",
            "cat\n",
            "children\n"
          ]
        }
      ]
    },
    {
      "cell_type": "markdown",
      "metadata": {
        "id": "JG1s5OY77g8K"
      },
      "source": [
        "###Part-of-Speech Tagging"
      ]
    },
    {
      "cell_type": "code",
      "metadata": {
        "colab": {
          "base_uri": "https://localhost:8080/"
        },
        "id": "wroxmLmWBcT7",
        "outputId": "14cd38aa-b364-428e-c747-fef2cefb614b"
      },
      "source": [
        "import nltk\n",
        "nltk.download('averaged_perceptron_tagger')"
      ],
      "execution_count": 32,
      "outputs": [
        {
          "output_type": "stream",
          "name": "stdout",
          "text": [
            "[nltk_data] Downloading package averaged_perceptron_tagger to\n",
            "[nltk_data]     /root/nltk_data...\n",
            "[nltk_data]   Unzipping taggers/averaged_perceptron_tagger.zip.\n"
          ]
        },
        {
          "output_type": "execute_result",
          "data": {
            "text/plain": [
              "True"
            ]
          },
          "metadata": {},
          "execution_count": 32
        }
      ]
    },
    {
      "cell_type": "code",
      "metadata": {
        "id": "382QBr-cBl0o"
      },
      "source": [
        "text = \"Lotta Lindgren, known by her stage name Léon, is a Swedish singer and songwriter born and raised in Stockholm, Sweden. Léon's rise to becoming an international music sensation began with the release of the single 'Tired of Talking' on SoundCloud in July 2015. To date, Léon has released two full-length albums, LÉON and Apart, and most recently collaborated with Jonas Blue on the house single 'Hear Me Say'.\""
      ],
      "execution_count": 27,
      "outputs": []
    },
    {
      "cell_type": "code",
      "metadata": {
        "id": "nHHHacnhBsh-"
      },
      "source": [
        "tokenized = nltk.word_tokenize(text) # tokenize words"
      ],
      "execution_count": 30,
      "outputs": []
    },
    {
      "cell_type": "code",
      "metadata": {
        "colab": {
          "base_uri": "https://localhost:8080/"
        },
        "id": "5yVifDf-B7GB",
        "outputId": "30b3045f-ab9b-47ef-bc96-96e700ab660b"
      },
      "source": [
        "nltk.pos_tag(tokenized)"
      ],
      "execution_count": 33,
      "outputs": [
        {
          "output_type": "execute_result",
          "data": {
            "text/plain": [
              "[('Lotta', 'NNP'),\n",
              " ('Lindgren', 'NNP'),\n",
              " (',', ','),\n",
              " ('known', 'VBN'),\n",
              " ('by', 'IN'),\n",
              " ('her', 'PRP$'),\n",
              " ('stage', 'NN'),\n",
              " ('name', 'NN'),\n",
              " ('Léon', 'NNP'),\n",
              " (',', ','),\n",
              " ('is', 'VBZ'),\n",
              " ('a', 'DT'),\n",
              " ('Swedish', 'JJ'),\n",
              " ('singer', 'NN'),\n",
              " ('and', 'CC'),\n",
              " ('songwriter', 'NN'),\n",
              " ('born', 'VBN'),\n",
              " ('and', 'CC'),\n",
              " ('raised', 'VBN'),\n",
              " ('in', 'IN'),\n",
              " ('Stockholm', 'NNP'),\n",
              " (',', ','),\n",
              " ('Sweden', 'NNP'),\n",
              " ('.', '.'),\n",
              " ('Léon', 'NNP'),\n",
              " (\"'s\", 'POS'),\n",
              " ('rise', 'NN'),\n",
              " ('to', 'TO'),\n",
              " ('becoming', 'VBG'),\n",
              " ('an', 'DT'),\n",
              " ('international', 'JJ'),\n",
              " ('music', 'NN'),\n",
              " ('sensation', 'NN'),\n",
              " ('began', 'VBD'),\n",
              " ('with', 'IN'),\n",
              " ('the', 'DT'),\n",
              " ('release', 'NN'),\n",
              " ('of', 'IN'),\n",
              " ('the', 'DT'),\n",
              " ('single', 'JJ'),\n",
              " (\"'Tired\", 'CD'),\n",
              " ('of', 'IN'),\n",
              " ('Talking', 'VBG'),\n",
              " (\"'\", \"''\"),\n",
              " ('on', 'IN'),\n",
              " ('SoundCloud', 'NNP'),\n",
              " ('in', 'IN'),\n",
              " ('July', 'NNP'),\n",
              " ('2015', 'CD'),\n",
              " ('.', '.'),\n",
              " ('To', 'TO'),\n",
              " ('date', 'NN'),\n",
              " (',', ','),\n",
              " ('Léon', 'NNP'),\n",
              " ('has', 'VBZ'),\n",
              " ('released', 'VBN'),\n",
              " ('two', 'CD'),\n",
              " ('full-length', 'JJ'),\n",
              " ('albums', 'NNS'),\n",
              " (',', ','),\n",
              " ('LÉON', 'NNP'),\n",
              " ('and', 'CC'),\n",
              " ('Apart', 'NNP'),\n",
              " (',', ','),\n",
              " ('and', 'CC'),\n",
              " ('most', 'JJS'),\n",
              " ('recently', 'RB'),\n",
              " ('collaborated', 'VBN'),\n",
              " ('with', 'IN'),\n",
              " ('Jonas', 'NNP'),\n",
              " ('Blue', 'NNP'),\n",
              " ('on', 'IN'),\n",
              " ('the', 'DT'),\n",
              " ('house', 'NN'),\n",
              " ('single', 'JJ'),\n",
              " (\"'Hear\", 'IN'),\n",
              " ('Me', 'NNP'),\n",
              " ('Say', 'NNP'),\n",
              " (\"'\", 'POS'),\n",
              " ('.', '.')]"
            ]
          },
          "metadata": {},
          "execution_count": 33
        }
      ]
    },
    {
      "cell_type": "code",
      "metadata": {
        "id": "2OIlo8aoDD3R"
      },
      "source": [
        ""
      ],
      "execution_count": null,
      "outputs": []
    },
    {
      "cell_type": "markdown",
      "metadata": {
        "id": "lOlaVJR2CvEc"
      },
      "source": [
        "###Named Entity Recognition"
      ]
    },
    {
      "cell_type": "code",
      "metadata": {
        "colab": {
          "base_uri": "https://localhost:8080/"
        },
        "id": "fHzQu2a2DhUb",
        "outputId": "fa8297fb-3f95-4337-b8f2-b03bee4fc978"
      },
      "source": [
        "import nltk\n",
        "nltk.download('maxent_ne_chunker')\n",
        "nltk.download('words')"
      ],
      "execution_count": 45,
      "outputs": [
        {
          "output_type": "stream",
          "name": "stdout",
          "text": [
            "[nltk_data] Downloading package maxent_ne_chunker to\n",
            "[nltk_data]     /root/nltk_data...\n",
            "[nltk_data]   Package maxent_ne_chunker is already up-to-date!\n",
            "[nltk_data] Downloading package words to /root/nltk_data...\n",
            "[nltk_data]   Package words is already up-to-date!\n"
          ]
        },
        {
          "output_type": "execute_result",
          "data": {
            "text/plain": [
              "True"
            ]
          },
          "metadata": {},
          "execution_count": 45
        }
      ]
    },
    {
      "cell_type": "code",
      "metadata": {
        "id": "_8xrJTI_DFY7"
      },
      "source": [
        "tokenized = nltk.word_tokenize(text)"
      ],
      "execution_count": 46,
      "outputs": []
    },
    {
      "cell_type": "code",
      "metadata": {
        "id": "1zYAAOyvDM6t"
      },
      "source": [
        "tagged = nltk.pos_tag(tokenized)"
      ],
      "execution_count": 47,
      "outputs": []
    },
    {
      "cell_type": "code",
      "metadata": {
        "id": "HOvDm_MqDRuf"
      },
      "source": [
        "named_ent = nltk.ne_chunk(tagged)"
      ],
      "execution_count": 48,
      "outputs": []
    },
    {
      "cell_type": "code",
      "metadata": {
        "colab": {
          "base_uri": "https://localhost:8080/"
        },
        "id": "IHU2vbFvDmto",
        "outputId": "d30bd505-68dc-4c00-d7e9-95f2fd186a58"
      },
      "source": [
        "print(named_ent)"
      ],
      "execution_count": 55,
      "outputs": [
        {
          "output_type": "stream",
          "name": "stdout",
          "text": [
            "(S\n",
            "  (PERSON Lotta/NNP Lindgren/NNP)\n",
            "  ,/,\n",
            "  known/VBN\n",
            "  by/IN\n",
            "  her/PRP$\n",
            "  stage/NN\n",
            "  name/NN\n",
            "  (PERSON Léon/NNP)\n",
            "  ,/,\n",
            "  is/VBZ\n",
            "  a/DT\n",
            "  (GPE Swedish/JJ)\n",
            "  singer/NN\n",
            "  and/CC\n",
            "  songwriter/NN\n",
            "  born/VBN\n",
            "  and/CC\n",
            "  raised/VBN\n",
            "  in/IN\n",
            "  (GPE Stockholm/NNP)\n",
            "  ,/,\n",
            "  (GPE Sweden/NNP)\n",
            "  ./.\n",
            "  (PERSON Léon/NNP)\n",
            "  's/POS\n",
            "  rise/NN\n",
            "  to/TO\n",
            "  becoming/VBG\n",
            "  an/DT\n",
            "  international/JJ\n",
            "  music/NN\n",
            "  sensation/NN\n",
            "  began/VBD\n",
            "  with/IN\n",
            "  the/DT\n",
            "  release/NN\n",
            "  of/IN\n",
            "  the/DT\n",
            "  single/JJ\n",
            "  'Tired/CD\n",
            "  of/IN\n",
            "  Talking/VBG\n",
            "  '/''\n",
            "  on/IN\n",
            "  (ORGANIZATION SoundCloud/NNP)\n",
            "  in/IN\n",
            "  July/NNP\n",
            "  2015/CD\n",
            "  ./.\n",
            "  To/TO\n",
            "  date/NN\n",
            "  ,/,\n",
            "  (PERSON Léon/NNP)\n",
            "  has/VBZ\n",
            "  released/VBN\n",
            "  two/CD\n",
            "  full-length/JJ\n",
            "  albums/NNS\n",
            "  ,/,\n",
            "  (ORGANIZATION LÉON/NNP)\n",
            "  and/CC\n",
            "  (PERSON Apart/NNP)\n",
            "  ,/,\n",
            "  and/CC\n",
            "  most/JJS\n",
            "  recently/RB\n",
            "  collaborated/VBN\n",
            "  with/IN\n",
            "  (PERSON Jonas/NNP Blue/NNP)\n",
            "  on/IN\n",
            "  the/DT\n",
            "  house/NN\n",
            "  single/JJ\n",
            "  'Hear/IN\n",
            "  (PERSON Me/NNP Say/NNP)\n",
            "  '/POS\n",
            "  ./.)\n"
          ]
        }
      ]
    },
    {
      "cell_type": "markdown",
      "metadata": {
        "id": "AEPTXKLDGBat"
      },
      "source": [
        "### Lemmatazing"
      ]
    },
    {
      "cell_type": "code",
      "metadata": {
        "colab": {
          "base_uri": "https://localhost:8080/"
        },
        "id": "0tJ2Q_dCGF_m",
        "outputId": "ed7efcb4-50d7-49fd-f5e7-857654599d4b"
      },
      "source": [
        "from nltk.stem import WordNetLemmatizer\n",
        "nltk.download('wordnet')"
      ],
      "execution_count": 59,
      "outputs": [
        {
          "output_type": "stream",
          "name": "stdout",
          "text": [
            "[nltk_data] Downloading package wordnet to /root/nltk_data...\n",
            "[nltk_data]   Unzipping corpora/wordnet.zip.\n"
          ]
        },
        {
          "output_type": "execute_result",
          "data": {
            "text/plain": [
              "True"
            ]
          },
          "metadata": {},
          "execution_count": 59
        }
      ]
    },
    {
      "cell_type": "code",
      "metadata": {
        "id": "lQdCpeh0Gclt"
      },
      "source": [
        "lem = WordNetLemmatizer()"
      ],
      "execution_count": 57,
      "outputs": []
    },
    {
      "cell_type": "code",
      "metadata": {
        "colab": {
          "base_uri": "https://localhost:8080/"
        },
        "id": "jNb1S3QvGfJU",
        "outputId": "be4bb336-9e0f-4e68-9b14-b1b683c6b63b"
      },
      "source": [
        "for w in words:\n",
        "  print(lem.lemmatize(w))"
      ],
      "execution_count": 61,
      "outputs": [
        {
          "output_type": "stream",
          "name": "stdout",
          "text": [
            "drive\n",
            "driving\n",
            "driver\n",
            "drive\n",
            "drove\n",
            "cat\n",
            "child\n"
          ]
        }
      ]
    },
    {
      "cell_type": "code",
      "metadata": {
        "colab": {
          "base_uri": "https://localhost:8080/",
          "height": 35
        },
        "id": "U7mS89x1He4L",
        "outputId": "5ea0dae4-b2c0-4bd0-94a8-fa01909fc5a7"
      },
      "source": [
        "lem.lemmatize('driving', 'v') # Let it know that it is a 'v'erb"
      ],
      "execution_count": 62,
      "outputs": [
        {
          "output_type": "execute_result",
          "data": {
            "application/vnd.google.colaboratory.intrinsic+json": {
              "type": "string"
            },
            "text/plain": [
              "'drive'"
            ]
          },
          "metadata": {},
          "execution_count": 62
        }
      ]
    }
  ]
}